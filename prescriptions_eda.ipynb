{
 "cells": [
  {
   "cell_type": "code",
   "execution_count": 1,
   "metadata": {
    "ExecuteTime": {
     "end_time": "2021-01-21T22:26:17.352257Z",
     "start_time": "2021-01-21T22:26:15.759515Z"
    }
   },
   "outputs": [],
   "source": [
    "import pandas as pd"
   ]
  },
  {
   "cell_type": "code",
   "execution_count": 3,
   "metadata": {
    "ExecuteTime": {
     "end_time": "2021-01-21T22:29:05.127970Z",
     "start_time": "2021-01-21T22:29:02.300020Z"
    }
   },
   "outputs": [],
   "source": [
    "df = pd.read_csv('master_dataset4.csv')"
   ]
  },
  {
   "cell_type": "code",
   "execution_count": 4,
   "metadata": {
    "ExecuteTime": {
     "end_time": "2021-01-21T22:29:46.608852Z",
     "start_time": "2021-01-21T22:29:46.561439Z"
    }
   },
   "outputs": [
    {
     "data": {
      "text/html": [
       "<div>\n",
       "<style scoped>\n",
       "    .dataframe tbody tr th:only-of-type {\n",
       "        vertical-align: middle;\n",
       "    }\n",
       "\n",
       "    .dataframe tbody tr th {\n",
       "        vertical-align: top;\n",
       "    }\n",
       "\n",
       "    .dataframe thead th {\n",
       "        text-align: right;\n",
       "    }\n",
       "</style>\n",
       "<table border=\"1\" class=\"dataframe\">\n",
       "  <thead>\n",
       "    <tr style=\"text-align: right;\">\n",
       "      <th></th>\n",
       "      <th>survey_date</th>\n",
       "      <th>region</th>\n",
       "      <th>country</th>\n",
       "      <th>ip_latitude</th>\n",
       "      <th>ip_longitude</th>\n",
       "      <th>ip_accuracy</th>\n",
       "      <th>sex</th>\n",
       "      <th>age</th>\n",
       "      <th>height</th>\n",
       "      <th>weight</th>\n",
       "      <th>...</th>\n",
       "      <th>lung_disease</th>\n",
       "      <th>diabetes</th>\n",
       "      <th>hiv_positive</th>\n",
       "      <th>hypertension</th>\n",
       "      <th>other_chronic</th>\n",
       "      <th>prescription_medication</th>\n",
       "      <th>opinion_infection</th>\n",
       "      <th>opinion_mortality</th>\n",
       "      <th>risk_infection</th>\n",
       "      <th>risk_mortality</th>\n",
       "    </tr>\n",
       "  </thead>\n",
       "  <tbody>\n",
       "    <tr>\n",
       "      <td>0</td>\n",
       "      <td>4/4/2020</td>\n",
       "      <td>NaN</td>\n",
       "      <td>US</td>\n",
       "      <td>35.9568</td>\n",
       "      <td>-86.5301</td>\n",
       "      <td>200.0</td>\n",
       "      <td>female</td>\n",
       "      <td>40_50</td>\n",
       "      <td>158</td>\n",
       "      <td>114</td>\n",
       "      <td>...</td>\n",
       "      <td>0</td>\n",
       "      <td>0</td>\n",
       "      <td>0</td>\n",
       "      <td>1</td>\n",
       "      <td>1</td>\n",
       "      <td>NaN</td>\n",
       "      <td>55.0</td>\n",
       "      <td>35.0</td>\n",
       "      <td>64.248</td>\n",
       "      <td>0.721</td>\n",
       "    </tr>\n",
       "    <tr>\n",
       "      <td>1</td>\n",
       "      <td>4/5/2020</td>\n",
       "      <td>NaN</td>\n",
       "      <td>US</td>\n",
       "      <td>39.6512</td>\n",
       "      <td>-82.6200</td>\n",
       "      <td>20.0</td>\n",
       "      <td>female</td>\n",
       "      <td>20_30</td>\n",
       "      <td>168</td>\n",
       "      <td>62</td>\n",
       "      <td>...</td>\n",
       "      <td>0</td>\n",
       "      <td>0</td>\n",
       "      <td>0</td>\n",
       "      <td>0</td>\n",
       "      <td>0</td>\n",
       "      <td>NaN</td>\n",
       "      <td>15.0</td>\n",
       "      <td>15.0</td>\n",
       "      <td>57.549</td>\n",
       "      <td>0.016</td>\n",
       "    </tr>\n",
       "    <tr>\n",
       "      <td>2</td>\n",
       "      <td>4/5/2020</td>\n",
       "      <td>NaN</td>\n",
       "      <td>US</td>\n",
       "      <td>27.7723</td>\n",
       "      <td>-82.2767</td>\n",
       "      <td>10.0</td>\n",
       "      <td>female</td>\n",
       "      <td>0_10</td>\n",
       "      <td>136</td>\n",
       "      <td>44</td>\n",
       "      <td>...</td>\n",
       "      <td>0</td>\n",
       "      <td>0</td>\n",
       "      <td>0</td>\n",
       "      <td>0</td>\n",
       "      <td>0</td>\n",
       "      <td>NaN</td>\n",
       "      <td>NaN</td>\n",
       "      <td>NaN</td>\n",
       "      <td>62.377</td>\n",
       "      <td>0.000</td>\n",
       "    </tr>\n",
       "    <tr>\n",
       "      <td>3</td>\n",
       "      <td>4/5/2020</td>\n",
       "      <td>NaN</td>\n",
       "      <td>US</td>\n",
       "      <td>39.6675</td>\n",
       "      <td>-77.5666</td>\n",
       "      <td>10.0</td>\n",
       "      <td>female</td>\n",
       "      <td>30_40</td>\n",
       "      <td>164</td>\n",
       "      <td>112</td>\n",
       "      <td>...</td>\n",
       "      <td>0</td>\n",
       "      <td>0</td>\n",
       "      <td>0</td>\n",
       "      <td>1</td>\n",
       "      <td>1</td>\n",
       "      <td>ACETAZOLAMIDE;GABAPENTIN;OMEPRAZOLE;VENLAFAXIN...</td>\n",
       "      <td>45.0</td>\n",
       "      <td>25.0</td>\n",
       "      <td>59.258</td>\n",
       "      <td>0.195</td>\n",
       "    </tr>\n",
       "    <tr>\n",
       "      <td>4</td>\n",
       "      <td>4/4/2020</td>\n",
       "      <td>NaN</td>\n",
       "      <td>US</td>\n",
       "      <td>41.3527</td>\n",
       "      <td>-81.7444</td>\n",
       "      <td>50.0</td>\n",
       "      <td>male</td>\n",
       "      <td>50_60</td>\n",
       "      <td>184</td>\n",
       "      <td>132</td>\n",
       "      <td>...</td>\n",
       "      <td>0</td>\n",
       "      <td>1</td>\n",
       "      <td>0</td>\n",
       "      <td>0</td>\n",
       "      <td>0</td>\n",
       "      <td>METFORMIN HYDROCHLORIDE</td>\n",
       "      <td>15.0</td>\n",
       "      <td>5.0</td>\n",
       "      <td>77.098</td>\n",
       "      <td>2.463</td>\n",
       "    </tr>\n",
       "  </tbody>\n",
       "</table>\n",
       "<p>5 rows × 43 columns</p>\n",
       "</div>"
      ],
      "text/plain": [
       "  survey_date region country  ip_latitude  ip_longitude  ip_accuracy     sex  \\\n",
       "0    4/4/2020    NaN      US      35.9568      -86.5301        200.0  female   \n",
       "1    4/5/2020    NaN      US      39.6512      -82.6200         20.0  female   \n",
       "2    4/5/2020    NaN      US      27.7723      -82.2767         10.0  female   \n",
       "3    4/5/2020    NaN      US      39.6675      -77.5666         10.0  female   \n",
       "4    4/4/2020    NaN      US      41.3527      -81.7444         50.0    male   \n",
       "\n",
       "     age  height  weight  ...  lung_disease diabetes hiv_positive  \\\n",
       "0  40_50     158     114  ...             0        0            0   \n",
       "1  20_30     168      62  ...             0        0            0   \n",
       "2   0_10     136      44  ...             0        0            0   \n",
       "3  30_40     164     112  ...             0        0            0   \n",
       "4  50_60     184     132  ...             0        1            0   \n",
       "\n",
       "   hypertension  other_chronic  \\\n",
       "0             1              1   \n",
       "1             0              0   \n",
       "2             0              0   \n",
       "3             1              1   \n",
       "4             0              0   \n",
       "\n",
       "                             prescription_medication  opinion_infection  \\\n",
       "0                                                NaN               55.0   \n",
       "1                                                NaN               15.0   \n",
       "2                                                NaN                NaN   \n",
       "3  ACETAZOLAMIDE;GABAPENTIN;OMEPRAZOLE;VENLAFAXIN...               45.0   \n",
       "4                            METFORMIN HYDROCHLORIDE               15.0   \n",
       "\n",
       "   opinion_mortality  risk_infection  risk_mortality  \n",
       "0               35.0          64.248           0.721  \n",
       "1               15.0          57.549           0.016  \n",
       "2                NaN          62.377           0.000  \n",
       "3               25.0          59.258           0.195  \n",
       "4                5.0          77.098           2.463  \n",
       "\n",
       "[5 rows x 43 columns]"
      ]
     },
     "execution_count": 4,
     "metadata": {},
     "output_type": "execute_result"
    }
   ],
   "source": [
    "df.head()"
   ]
  },
  {
   "cell_type": "code",
   "execution_count": 5,
   "metadata": {
    "ExecuteTime": {
     "end_time": "2021-01-21T22:30:03.779249Z",
     "start_time": "2021-01-21T22:30:03.421181Z"
    }
   },
   "outputs": [
    {
     "name": "stdout",
     "output_type": "stream",
     "text": [
      "<class 'pandas.core.frame.DataFrame'>\n",
      "RangeIndex: 619027 entries, 0 to 619026\n",
      "Data columns (total 43 columns):\n",
      "survey_date                  619027 non-null object\n",
      "region                       42296 non-null object\n",
      "country                      619010 non-null object\n",
      "ip_latitude                  619027 non-null float64\n",
      "ip_longitude                 619027 non-null float64\n",
      "ip_accuracy                  619026 non-null float64\n",
      "sex                          619027 non-null object\n",
      "age                          619027 non-null object\n",
      "height                       619027 non-null int64\n",
      "weight                       619027 non-null int64\n",
      "bmi                          619027 non-null float64\n",
      "blood_type                   619027 non-null object\n",
      "smoking                      617174 non-null object\n",
      "alcohol                      617174 non-null float64\n",
      "cannabis                     606540 non-null float64\n",
      "amphetamines                 591599 non-null float64\n",
      "cocaine                      589898 non-null float64\n",
      "lsd                          593711 non-null float64\n",
      "mdma                         597279 non-null float64\n",
      "contacts_count               614795 non-null float64\n",
      "house_count                  619027 non-null int64\n",
      "text_working                 614795 non-null object\n",
      "rate_government_action       619027 non-null int64\n",
      "rate_reducing_risk_single    619027 non-null int64\n",
      "rate_reducing_risk_house     619027 non-null int64\n",
      "rate_reducing_mask           617174 non-null float64\n",
      "covid19_positive             619027 non-null int64\n",
      "covid19_symptoms             619027 non-null int64\n",
      "covid19_contact              619027 non-null int64\n",
      "asthma                       619027 non-null int64\n",
      "kidney_disease               619027 non-null int64\n",
      "compromised_immune           619027 non-null int64\n",
      "heart_disease                619027 non-null int64\n",
      "lung_disease                 619027 non-null int64\n",
      "diabetes                     619027 non-null int64\n",
      "hiv_positive                 619027 non-null int64\n",
      "hypertension                 619027 non-null int64\n",
      "other_chronic                619027 non-null int64\n",
      "prescription_medication      193131 non-null object\n",
      "opinion_infection            511034 non-null float64\n",
      "opinion_mortality            511034 non-null float64\n",
      "risk_infection               618950 non-null float64\n",
      "risk_mortality               618950 non-null float64\n",
      "dtypes: float64(16), int64(18), object(9)\n",
      "memory usage: 203.1+ MB\n"
     ]
    }
   ],
   "source": [
    "df.info()"
   ]
  },
  {
   "cell_type": "code",
   "execution_count": 19,
   "metadata": {
    "ExecuteTime": {
     "end_time": "2021-01-21T22:33:44.803340Z",
     "start_time": "2021-01-21T22:33:44.755468Z"
    }
   },
   "outputs": [
    {
     "data": {
      "text/plain": [
       "0    618134\n",
       "1       893\n",
       "Name: covid19_positive, dtype: int64"
      ]
     },
     "execution_count": 19,
     "metadata": {},
     "output_type": "execute_result"
    }
   ],
   "source": [
    "df['covid19_positive'].value_counts(0,1)"
   ]
  },
  {
   "cell_type": "code",
   "execution_count": 46,
   "metadata": {
    "ExecuteTime": {
     "end_time": "2021-01-21T23:01:25.487215Z",
     "start_time": "2021-01-21T23:01:25.471695Z"
    }
   },
   "outputs": [
    {
     "data": {
      "text/html": [
       "<div>\n",
       "<style scoped>\n",
       "    .dataframe tbody tr th:only-of-type {\n",
       "        vertical-align: middle;\n",
       "    }\n",
       "\n",
       "    .dataframe tbody tr th {\n",
       "        vertical-align: top;\n",
       "    }\n",
       "\n",
       "    .dataframe thead th {\n",
       "        text-align: right;\n",
       "    }\n",
       "</style>\n",
       "<table border=\"1\" class=\"dataframe\">\n",
       "  <thead>\n",
       "    <tr style=\"text-align: right;\">\n",
       "      <th></th>\n",
       "      <th>prescription_medication</th>\n",
       "    </tr>\n",
       "  </thead>\n",
       "  <tbody>\n",
       "    <tr>\n",
       "      <td>0</td>\n",
       "      <td>NaN</td>\n",
       "    </tr>\n",
       "    <tr>\n",
       "      <td>1</td>\n",
       "      <td>NaN</td>\n",
       "    </tr>\n",
       "    <tr>\n",
       "      <td>2</td>\n",
       "      <td>NaN</td>\n",
       "    </tr>\n",
       "    <tr>\n",
       "      <td>3</td>\n",
       "      <td>ACETAZOLAMIDE;GABAPENTIN;OMEPRAZOLE;VENLAFAXIN...</td>\n",
       "    </tr>\n",
       "    <tr>\n",
       "      <td>4</td>\n",
       "      <td>METFORMIN HYDROCHLORIDE</td>\n",
       "    </tr>\n",
       "  </tbody>\n",
       "</table>\n",
       "</div>"
      ],
      "text/plain": [
       "                             prescription_medication\n",
       "0                                                NaN\n",
       "1                                                NaN\n",
       "2                                                NaN\n",
       "3  ACETAZOLAMIDE;GABAPENTIN;OMEPRAZOLE;VENLAFAXIN...\n",
       "4                            METFORMIN HYDROCHLORIDE"
      ]
     },
     "execution_count": 46,
     "metadata": {},
     "output_type": "execute_result"
    }
   ],
   "source": [
    "#create a df from a list after splitting the values:\n",
    "split_data = df[\"prescription_medication\"]\n",
    "meds = split_data\n",
    "\n",
    "meds_df = pd.DataFrame(meds)\n",
    "meds_df.head()"
   ]
  },
  {
   "cell_type": "code",
   "execution_count": 47,
   "metadata": {
    "ExecuteTime": {
     "end_time": "2021-01-21T23:01:31.318032Z",
     "start_time": "2021-01-21T23:01:31.307058Z"
    }
   },
   "outputs": [],
   "source": [
    "meds_df['covid19_positive'] = df['covid19_positive']"
   ]
  },
  {
   "cell_type": "code",
   "execution_count": 52,
   "metadata": {
    "ExecuteTime": {
     "end_time": "2021-01-21T23:02:31.333315Z",
     "start_time": "2021-01-21T23:02:31.326337Z"
    }
   },
   "outputs": [],
   "source": [
    "meds_df.columns = ['meds', 'target']"
   ]
  },
  {
   "cell_type": "code",
   "execution_count": 53,
   "metadata": {
    "ExecuteTime": {
     "end_time": "2021-01-21T23:02:45.844439Z",
     "start_time": "2021-01-21T23:02:45.790861Z"
    }
   },
   "outputs": [],
   "source": [
    "meds_df['meds'].dropna(inplace=True)"
   ]
  },
  {
   "cell_type": "code",
   "execution_count": 54,
   "metadata": {
    "ExecuteTime": {
     "end_time": "2021-01-21T23:02:47.494826Z",
     "start_time": "2021-01-21T23:02:47.483854Z"
    }
   },
   "outputs": [
    {
     "data": {
      "text/html": [
       "<div>\n",
       "<style scoped>\n",
       "    .dataframe tbody tr th:only-of-type {\n",
       "        vertical-align: middle;\n",
       "    }\n",
       "\n",
       "    .dataframe tbody tr th {\n",
       "        vertical-align: top;\n",
       "    }\n",
       "\n",
       "    .dataframe thead th {\n",
       "        text-align: right;\n",
       "    }\n",
       "</style>\n",
       "<table border=\"1\" class=\"dataframe\">\n",
       "  <thead>\n",
       "    <tr style=\"text-align: right;\">\n",
       "      <th></th>\n",
       "      <th>meds</th>\n",
       "      <th>target</th>\n",
       "    </tr>\n",
       "  </thead>\n",
       "  <tbody>\n",
       "    <tr>\n",
       "      <td>0</td>\n",
       "      <td>NaN</td>\n",
       "      <td>0</td>\n",
       "    </tr>\n",
       "    <tr>\n",
       "      <td>1</td>\n",
       "      <td>NaN</td>\n",
       "      <td>0</td>\n",
       "    </tr>\n",
       "    <tr>\n",
       "      <td>2</td>\n",
       "      <td>NaN</td>\n",
       "      <td>0</td>\n",
       "    </tr>\n",
       "    <tr>\n",
       "      <td>3</td>\n",
       "      <td>ACETAZOLAMIDE;GABAPENTIN;OMEPRAZOLE;VENLAFAXIN...</td>\n",
       "      <td>0</td>\n",
       "    </tr>\n",
       "    <tr>\n",
       "      <td>4</td>\n",
       "      <td>METFORMIN HYDROCHLORIDE</td>\n",
       "      <td>0</td>\n",
       "    </tr>\n",
       "  </tbody>\n",
       "</table>\n",
       "</div>"
      ],
      "text/plain": [
       "                                                meds  target\n",
       "0                                                NaN       0\n",
       "1                                                NaN       0\n",
       "2                                                NaN       0\n",
       "3  ACETAZOLAMIDE;GABAPENTIN;OMEPRAZOLE;VENLAFAXIN...       0\n",
       "4                            METFORMIN HYDROCHLORIDE       0"
      ]
     },
     "execution_count": 54,
     "metadata": {},
     "output_type": "execute_result"
    }
   ],
   "source": [
    "meds_df.head()"
   ]
  },
  {
   "cell_type": "code",
   "execution_count": 51,
   "metadata": {
    "ExecuteTime": {
     "end_time": "2021-01-21T23:01:57.543763Z",
     "start_time": "2021-01-21T23:01:57.520274Z"
    }
   },
   "outputs": [
    {
     "data": {
      "text/html": [
       "<style  type=\"text/css\" >\n",
       "    #T_a96f8276_5c3c_11eb_ac9b_28c63fed46e8row0_col0 {\n",
       "            background-color:  #3b4cc0;\n",
       "            color:  #f1f1f1;\n",
       "        }</style><table id=\"T_a96f8276_5c3c_11eb_ac9b_28c63fed46e8\" ><thead>    <tr>        <th class=\"blank level0\" ></th>        <th class=\"col_heading level0 col0\" >target</th>    </tr></thead><tbody>\n",
       "                <tr>\n",
       "                        <th id=\"T_a96f8276_5c3c_11eb_ac9b_28c63fed46e8level0_row0\" class=\"row_heading level0 row0\" >target</th>\n",
       "                        <td id=\"T_a96f8276_5c3c_11eb_ac9b_28c63fed46e8row0_col0\" class=\"data row0 col0\" >1.0</td>\n",
       "            </tr>\n",
       "    </tbody></table>"
      ],
      "text/plain": [
       "<pandas.io.formats.style.Styler at 0x20931a02d68>"
      ]
     },
     "execution_count": 51,
     "metadata": {},
     "output_type": "execute_result"
    }
   ],
   "source": [
    "import matplotlib.pyplot as plt\n",
    "meds_df.corr().style.format(\"{:.2}\").background_gradient(cmap=plt.get_cmap('coolwarm'), axis=1) "
   ]
  },
  {
   "cell_type": "code",
   "execution_count": 56,
   "metadata": {
    "ExecuteTime": {
     "end_time": "2021-01-21T23:03:04.961405Z",
     "start_time": "2021-01-21T23:03:04.827207Z"
    }
   },
   "outputs": [
    {
     "data": {
      "text/plain": [
       "LEVOTHYROXINE SODIUM                                                                                10142\n",
       "SERTRALINE HYDROCHLORIDE                                                                             6332\n",
       "LISINOPRIL                                                                                           4101\n",
       "ESCITALOPRAM OXALATE                                                                                 4084\n",
       "AMPHETAMINE ASPARTATE;AMPHETAMINE SULFATE;DEXTROAMPHETAMINE SACCHARATE;DEXTROAMPHETAMINE SULFATE     3175\n",
       "                                                                                                    ...  \n",
       "ANGIOTENSIN II ACETATE;ATORVASTATIN CALCIUM                                                             1\n",
       "FLUTICASONE PROPIONATE;FORMOTEROL FUMARATE;MOMETASONE FUROATE                                           1\n",
       "ATENOLOL;DULAGLUTIDE;EMPAGLIFLOZIN;METFORMIN HYDROCHLORIDE;PRAVASTATIN SODIUM                           1\n",
       "BUPROPION HYDROCHLORIDE;CLONAZEPAM;LEVOTHYROXINE SODIUM;VENLAFAXINE HYDROCHLORIDE                       1\n",
       "DIVALPROEX SODIUM;HYDROXYZINE HYDROCHLORIDE;LURASIDONE HYDROCHLORIDE;ONDANSETRON HYDROCHLORIDE          1\n",
       "Name: meds, Length: 57106, dtype: int64"
      ]
     },
     "execution_count": 56,
     "metadata": {},
     "output_type": "execute_result"
    }
   ],
   "source": [
    "meds_df['meds'].value_counts()"
   ]
  },
  {
   "cell_type": "code",
   "execution_count": null,
   "metadata": {},
   "outputs": [],
   "source": [
    "##creating a column to track lack of prescription medication:\n",
    "meds_df['taking_prescription_medication'] = df['prescription_medication'].notnull()"
   ]
  }
 ],
 "metadata": {
  "kernelspec": {
   "display_name": "Python [conda env:learn-env] *",
   "language": "python",
   "name": "conda-env-learn-env-py"
  },
  "language_info": {
   "codemirror_mode": {
    "name": "ipython",
    "version": 3
   },
   "file_extension": ".py",
   "mimetype": "text/x-python",
   "name": "python",
   "nbconvert_exporter": "python",
   "pygments_lexer": "ipython3",
   "version": "3.6.9"
  },
  "latex_envs": {
   "LaTeX_envs_menu_present": true,
   "autoclose": false,
   "autocomplete": true,
   "bibliofile": "biblio.bib",
   "cite_by": "apalike",
   "current_citInitial": 1,
   "eqLabelWithNumbers": true,
   "eqNumInitial": 1,
   "hotkeys": {
    "equation": "Ctrl-E",
    "itemize": "Ctrl-I"
   },
   "labels_anchors": false,
   "latex_user_defs": false,
   "report_style_numbering": false,
   "user_envs_cfg": false
  },
  "toc": {
   "base_numbering": 1,
   "nav_menu": {},
   "number_sections": true,
   "sideBar": true,
   "skip_h1_title": false,
   "title_cell": "Table of Contents",
   "title_sidebar": "Contents",
   "toc_cell": false,
   "toc_position": {},
   "toc_section_display": true,
   "toc_window_display": false
  },
  "varInspector": {
   "cols": {
    "lenName": 16,
    "lenType": 16,
    "lenVar": 40
   },
   "kernels_config": {
    "python": {
     "delete_cmd_postfix": "",
     "delete_cmd_prefix": "del ",
     "library": "var_list.py",
     "varRefreshCmd": "print(var_dic_list())"
    },
    "r": {
     "delete_cmd_postfix": ") ",
     "delete_cmd_prefix": "rm(",
     "library": "var_list.r",
     "varRefreshCmd": "cat(var_dic_list()) "
    }
   },
   "types_to_exclude": [
    "module",
    "function",
    "builtin_function_or_method",
    "instance",
    "_Feature"
   ],
   "window_display": false
  }
 },
 "nbformat": 4,
 "nbformat_minor": 2
}
